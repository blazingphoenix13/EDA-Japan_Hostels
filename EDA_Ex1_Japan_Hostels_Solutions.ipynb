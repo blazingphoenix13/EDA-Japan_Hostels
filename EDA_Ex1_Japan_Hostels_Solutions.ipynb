{
 "cells": [
  {
   "cell_type": "code",
   "execution_count": 1,
   "metadata": {},
   "outputs": [],
   "source": [
    "import pandas as pd\n",
    "import matplotlib.pyplot as plt\n",
    "from scipy import stats\n",
    "import seaborn as sns\n",
    "from wordcloud import WordCloud"
   ]
  },
  {
   "cell_type": "code",
   "execution_count": 39,
   "metadata": {},
   "outputs": [
    {
     "data": {
      "text/html": [
       "<div>\n",
       "<style scoped>\n",
       "    .dataframe tbody tr th:only-of-type {\n",
       "        vertical-align: middle;\n",
       "    }\n",
       "\n",
       "    .dataframe tbody tr th {\n",
       "        vertical-align: top;\n",
       "    }\n",
       "\n",
       "    .dataframe thead th {\n",
       "        text-align: right;\n",
       "    }\n",
       "</style>\n",
       "<table border=\"1\" class=\"dataframe\">\n",
       "  <thead>\n",
       "    <tr style=\"text-align: right;\">\n",
       "      <th></th>\n",
       "      <th>Unnamed: 0</th>\n",
       "      <th>hostel.name</th>\n",
       "      <th>City</th>\n",
       "      <th>price.from</th>\n",
       "      <th>Distance</th>\n",
       "      <th>summary.score</th>\n",
       "      <th>rating.band</th>\n",
       "      <th>atmosphere</th>\n",
       "      <th>cleanliness</th>\n",
       "      <th>facilities</th>\n",
       "      <th>location.y</th>\n",
       "      <th>security</th>\n",
       "      <th>staff</th>\n",
       "      <th>valueformoney</th>\n",
       "      <th>lon</th>\n",
       "      <th>lat</th>\n",
       "    </tr>\n",
       "  </thead>\n",
       "  <tbody>\n",
       "    <tr>\n",
       "      <th>0</th>\n",
       "      <td>1</td>\n",
       "      <td>\"Bike &amp; Bed\" CharinCo Hostel</td>\n",
       "      <td>Osaka</td>\n",
       "      <td>3300</td>\n",
       "      <td>2.9km from city centre</td>\n",
       "      <td>9.2</td>\n",
       "      <td>Superb</td>\n",
       "      <td>8.9</td>\n",
       "      <td>9.4</td>\n",
       "      <td>9.3</td>\n",
       "      <td>8.9</td>\n",
       "      <td>9.0</td>\n",
       "      <td>9.4</td>\n",
       "      <td>9.4</td>\n",
       "      <td>135.513767</td>\n",
       "      <td>34.682678</td>\n",
       "    </tr>\n",
       "    <tr>\n",
       "      <th>1</th>\n",
       "      <td>2</td>\n",
       "      <td>&amp; And Hostel</td>\n",
       "      <td>Fukuoka-City</td>\n",
       "      <td>2600</td>\n",
       "      <td>0.7km from city centre</td>\n",
       "      <td>9.5</td>\n",
       "      <td>Superb</td>\n",
       "      <td>9.4</td>\n",
       "      <td>9.7</td>\n",
       "      <td>9.5</td>\n",
       "      <td>9.7</td>\n",
       "      <td>9.2</td>\n",
       "      <td>9.7</td>\n",
       "      <td>9.5</td>\n",
       "      <td>NaN</td>\n",
       "      <td>NaN</td>\n",
       "    </tr>\n",
       "    <tr>\n",
       "      <th>2</th>\n",
       "      <td>3</td>\n",
       "      <td>&amp;And Hostel Akihabara</td>\n",
       "      <td>Tokyo</td>\n",
       "      <td>3600</td>\n",
       "      <td>7.8km from city centre</td>\n",
       "      <td>8.7</td>\n",
       "      <td>Fabulous</td>\n",
       "      <td>8.0</td>\n",
       "      <td>7.0</td>\n",
       "      <td>9.0</td>\n",
       "      <td>8.0</td>\n",
       "      <td>10.0</td>\n",
       "      <td>10.0</td>\n",
       "      <td>9.0</td>\n",
       "      <td>139.777472</td>\n",
       "      <td>35.697447</td>\n",
       "    </tr>\n",
       "    <tr>\n",
       "      <th>3</th>\n",
       "      <td>4</td>\n",
       "      <td>&amp;And Hostel Ueno</td>\n",
       "      <td>Tokyo</td>\n",
       "      <td>2600</td>\n",
       "      <td>8.7km from city centre</td>\n",
       "      <td>7.4</td>\n",
       "      <td>Very Good</td>\n",
       "      <td>8.0</td>\n",
       "      <td>7.5</td>\n",
       "      <td>7.5</td>\n",
       "      <td>7.5</td>\n",
       "      <td>7.0</td>\n",
       "      <td>8.0</td>\n",
       "      <td>6.5</td>\n",
       "      <td>139.783667</td>\n",
       "      <td>35.712716</td>\n",
       "    </tr>\n",
       "    <tr>\n",
       "      <th>4</th>\n",
       "      <td>5</td>\n",
       "      <td>&amp;And Hostel-Asakusa North-</td>\n",
       "      <td>Tokyo</td>\n",
       "      <td>1500</td>\n",
       "      <td>10.5km from city centre</td>\n",
       "      <td>9.4</td>\n",
       "      <td>Superb</td>\n",
       "      <td>9.5</td>\n",
       "      <td>9.5</td>\n",
       "      <td>9.0</td>\n",
       "      <td>9.0</td>\n",
       "      <td>9.5</td>\n",
       "      <td>10.0</td>\n",
       "      <td>9.5</td>\n",
       "      <td>139.798371</td>\n",
       "      <td>35.727898</td>\n",
       "    </tr>\n",
       "  </tbody>\n",
       "</table>\n",
       "</div>"
      ],
      "text/plain": [
       "   Unnamed: 0                   hostel.name          City  price.from  \\\n",
       "0           1  \"Bike & Bed\" CharinCo Hostel         Osaka        3300   \n",
       "1           2                  & And Hostel  Fukuoka-City        2600   \n",
       "2           3         &And Hostel Akihabara         Tokyo        3600   \n",
       "3           4              &And Hostel Ueno         Tokyo        2600   \n",
       "4           5    &And Hostel-Asakusa North-         Tokyo        1500   \n",
       "\n",
       "                  Distance  summary.score rating.band  atmosphere  \\\n",
       "0   2.9km from city centre            9.2      Superb         8.9   \n",
       "1   0.7km from city centre            9.5      Superb         9.4   \n",
       "2   7.8km from city centre            8.7    Fabulous         8.0   \n",
       "3   8.7km from city centre            7.4   Very Good         8.0   \n",
       "4  10.5km from city centre            9.4      Superb         9.5   \n",
       "\n",
       "   cleanliness  facilities  location.y  security  staff  valueformoney  \\\n",
       "0          9.4         9.3         8.9       9.0    9.4            9.4   \n",
       "1          9.7         9.5         9.7       9.2    9.7            9.5   \n",
       "2          7.0         9.0         8.0      10.0   10.0            9.0   \n",
       "3          7.5         7.5         7.5       7.0    8.0            6.5   \n",
       "4          9.5         9.0         9.0       9.5   10.0            9.5   \n",
       "\n",
       "          lon        lat  \n",
       "0  135.513767  34.682678  \n",
       "1         NaN        NaN  \n",
       "2  139.777472  35.697447  \n",
       "3  139.783667  35.712716  \n",
       "4  139.798371  35.727898  "
      ]
     },
     "execution_count": 39,
     "metadata": {},
     "output_type": "execute_result"
    }
   ],
   "source": [
    "df = pd.read_csv(\"Hostel.csv\")\n",
    "df.head()"
   ]
  },
  {
   "cell_type": "code",
   "execution_count": 40,
   "metadata": {},
   "outputs": [
    {
     "data": {
      "text/plain": [
       "Index(['Unnamed: 0', 'hostel.name', 'City', 'price.from', 'Distance',\n",
       "       'summary.score', 'rating.band', 'atmosphere', 'cleanliness',\n",
       "       'facilities', 'location.y', 'security', 'staff', 'valueformoney', 'lon',\n",
       "       'lat'],\n",
       "      dtype='object')"
      ]
     },
     "execution_count": 40,
     "metadata": {},
     "output_type": "execute_result"
    }
   ],
   "source": [
    "df.columns"
   ]
  },
  {
   "cell_type": "code",
   "execution_count": 41,
   "metadata": {},
   "outputs": [
    {
     "data": {
      "text/html": [
       "<div>\n",
       "<style scoped>\n",
       "    .dataframe tbody tr th:only-of-type {\n",
       "        vertical-align: middle;\n",
       "    }\n",
       "\n",
       "    .dataframe tbody tr th {\n",
       "        vertical-align: top;\n",
       "    }\n",
       "\n",
       "    .dataframe thead th {\n",
       "        text-align: right;\n",
       "    }\n",
       "</style>\n",
       "<table border=\"1\" class=\"dataframe\">\n",
       "  <thead>\n",
       "    <tr style=\"text-align: right;\">\n",
       "      <th></th>\n",
       "      <th>Index</th>\n",
       "      <th>Hostel Name</th>\n",
       "      <th>City</th>\n",
       "      <th>Min. Price for One Night (yen)</th>\n",
       "      <th>Distance from City Center</th>\n",
       "      <th>Summary Score</th>\n",
       "      <th>Rating</th>\n",
       "      <th>Atmosphere</th>\n",
       "      <th>Cleaniness</th>\n",
       "      <th>Facilities</th>\n",
       "      <th>Location</th>\n",
       "      <th>Security</th>\n",
       "      <th>Staff</th>\n",
       "      <th>Value for Money</th>\n",
       "      <th>Longitude</th>\n",
       "      <th>Latitude</th>\n",
       "    </tr>\n",
       "  </thead>\n",
       "  <tbody>\n",
       "    <tr>\n",
       "      <th>0</th>\n",
       "      <td>1</td>\n",
       "      <td>\"Bike &amp; Bed\" CharinCo Hostel</td>\n",
       "      <td>Osaka</td>\n",
       "      <td>3300</td>\n",
       "      <td>2.9km from city centre</td>\n",
       "      <td>9.2</td>\n",
       "      <td>Superb</td>\n",
       "      <td>8.9</td>\n",
       "      <td>9.4</td>\n",
       "      <td>9.3</td>\n",
       "      <td>8.9</td>\n",
       "      <td>9.0</td>\n",
       "      <td>9.4</td>\n",
       "      <td>9.4</td>\n",
       "      <td>135.513767</td>\n",
       "      <td>34.682678</td>\n",
       "    </tr>\n",
       "    <tr>\n",
       "      <th>1</th>\n",
       "      <td>2</td>\n",
       "      <td>&amp; And Hostel</td>\n",
       "      <td>Fukuoka-City</td>\n",
       "      <td>2600</td>\n",
       "      <td>0.7km from city centre</td>\n",
       "      <td>9.5</td>\n",
       "      <td>Superb</td>\n",
       "      <td>9.4</td>\n",
       "      <td>9.7</td>\n",
       "      <td>9.5</td>\n",
       "      <td>9.7</td>\n",
       "      <td>9.2</td>\n",
       "      <td>9.7</td>\n",
       "      <td>9.5</td>\n",
       "      <td>NaN</td>\n",
       "      <td>NaN</td>\n",
       "    </tr>\n",
       "    <tr>\n",
       "      <th>2</th>\n",
       "      <td>3</td>\n",
       "      <td>&amp;And Hostel Akihabara</td>\n",
       "      <td>Tokyo</td>\n",
       "      <td>3600</td>\n",
       "      <td>7.8km from city centre</td>\n",
       "      <td>8.7</td>\n",
       "      <td>Fabulous</td>\n",
       "      <td>8.0</td>\n",
       "      <td>7.0</td>\n",
       "      <td>9.0</td>\n",
       "      <td>8.0</td>\n",
       "      <td>10.0</td>\n",
       "      <td>10.0</td>\n",
       "      <td>9.0</td>\n",
       "      <td>139.777472</td>\n",
       "      <td>35.697447</td>\n",
       "    </tr>\n",
       "    <tr>\n",
       "      <th>3</th>\n",
       "      <td>4</td>\n",
       "      <td>&amp;And Hostel Ueno</td>\n",
       "      <td>Tokyo</td>\n",
       "      <td>2600</td>\n",
       "      <td>8.7km from city centre</td>\n",
       "      <td>7.4</td>\n",
       "      <td>Very Good</td>\n",
       "      <td>8.0</td>\n",
       "      <td>7.5</td>\n",
       "      <td>7.5</td>\n",
       "      <td>7.5</td>\n",
       "      <td>7.0</td>\n",
       "      <td>8.0</td>\n",
       "      <td>6.5</td>\n",
       "      <td>139.783667</td>\n",
       "      <td>35.712716</td>\n",
       "    </tr>\n",
       "    <tr>\n",
       "      <th>4</th>\n",
       "      <td>5</td>\n",
       "      <td>&amp;And Hostel-Asakusa North-</td>\n",
       "      <td>Tokyo</td>\n",
       "      <td>1500</td>\n",
       "      <td>10.5km from city centre</td>\n",
       "      <td>9.4</td>\n",
       "      <td>Superb</td>\n",
       "      <td>9.5</td>\n",
       "      <td>9.5</td>\n",
       "      <td>9.0</td>\n",
       "      <td>9.0</td>\n",
       "      <td>9.5</td>\n",
       "      <td>10.0</td>\n",
       "      <td>9.5</td>\n",
       "      <td>139.798371</td>\n",
       "      <td>35.727898</td>\n",
       "    </tr>\n",
       "  </tbody>\n",
       "</table>\n",
       "</div>"
      ],
      "text/plain": [
       "   Index                   Hostel Name          City  \\\n",
       "0      1  \"Bike & Bed\" CharinCo Hostel         Osaka   \n",
       "1      2                  & And Hostel  Fukuoka-City   \n",
       "2      3         &And Hostel Akihabara         Tokyo   \n",
       "3      4              &And Hostel Ueno         Tokyo   \n",
       "4      5    &And Hostel-Asakusa North-         Tokyo   \n",
       "\n",
       "   Min. Price for One Night (yen) Distance from City Center  Summary Score  \\\n",
       "0                            3300    2.9km from city centre            9.2   \n",
       "1                            2600    0.7km from city centre            9.5   \n",
       "2                            3600    7.8km from city centre            8.7   \n",
       "3                            2600    8.7km from city centre            7.4   \n",
       "4                            1500   10.5km from city centre            9.4   \n",
       "\n",
       "      Rating  Atmosphere  Cleaniness  Facilities  Location  Security  Staff  \\\n",
       "0     Superb         8.9         9.4         9.3       8.9       9.0    9.4   \n",
       "1     Superb         9.4         9.7         9.5       9.7       9.2    9.7   \n",
       "2   Fabulous         8.0         7.0         9.0       8.0      10.0   10.0   \n",
       "3  Very Good         8.0         7.5         7.5       7.5       7.0    8.0   \n",
       "4     Superb         9.5         9.5         9.0       9.0       9.5   10.0   \n",
       "\n",
       "   Value for Money   Longitude   Latitude  \n",
       "0              9.4  135.513767  34.682678  \n",
       "1              9.5         NaN        NaN  \n",
       "2              9.0  139.777472  35.697447  \n",
       "3              6.5  139.783667  35.712716  \n",
       "4              9.5  139.798371  35.727898  "
      ]
     },
     "execution_count": 41,
     "metadata": {},
     "output_type": "execute_result"
    }
   ],
   "source": [
    "df.columns = [\"Index\",\"Hostel Name\", \"City\", \"Min. Price for One Night (yen)\", \n",
    "              \"Distance from City Center\", \"Summary Score\", \"Rating\", \"Atmosphere\", \n",
    "              \"Cleaniness\", \"Facilities\", \"Location\", \"Security\", \"Staff\", \n",
    "              \"Value for Money\", \"Longitude\", \"Latitude\"]\n",
    "df.head()"
   ]
  },
  {
   "cell_type": "code",
   "execution_count": 42,
   "metadata": {},
   "outputs": [
    {
     "data": {
      "text/html": [
       "<div>\n",
       "<style scoped>\n",
       "    .dataframe tbody tr th:only-of-type {\n",
       "        vertical-align: middle;\n",
       "    }\n",
       "\n",
       "    .dataframe tbody tr th {\n",
       "        vertical-align: top;\n",
       "    }\n",
       "\n",
       "    .dataframe thead th {\n",
       "        text-align: right;\n",
       "    }\n",
       "</style>\n",
       "<table border=\"1\" class=\"dataframe\">\n",
       "  <thead>\n",
       "    <tr style=\"text-align: right;\">\n",
       "      <th></th>\n",
       "      <th>Hostel Name</th>\n",
       "      <th>City</th>\n",
       "      <th>Min. Price for One Night (yen)</th>\n",
       "      <th>Distance from City Center</th>\n",
       "      <th>Summary Score</th>\n",
       "      <th>Rating</th>\n",
       "      <th>Atmosphere</th>\n",
       "      <th>Cleaniness</th>\n",
       "      <th>Facilities</th>\n",
       "      <th>Location</th>\n",
       "      <th>Security</th>\n",
       "      <th>Staff</th>\n",
       "      <th>Value for Money</th>\n",
       "      <th>Longitude</th>\n",
       "      <th>Latitude</th>\n",
       "    </tr>\n",
       "  </thead>\n",
       "  <tbody>\n",
       "    <tr>\n",
       "      <th>0</th>\n",
       "      <td>\"Bike &amp; Bed\" CharinCo Hostel</td>\n",
       "      <td>Osaka</td>\n",
       "      <td>3300</td>\n",
       "      <td>2.9km from city centre</td>\n",
       "      <td>9.2</td>\n",
       "      <td>Superb</td>\n",
       "      <td>8.9</td>\n",
       "      <td>9.4</td>\n",
       "      <td>9.3</td>\n",
       "      <td>8.9</td>\n",
       "      <td>9.0</td>\n",
       "      <td>9.4</td>\n",
       "      <td>9.4</td>\n",
       "      <td>135.513767</td>\n",
       "      <td>34.682678</td>\n",
       "    </tr>\n",
       "    <tr>\n",
       "      <th>1</th>\n",
       "      <td>&amp; And Hostel</td>\n",
       "      <td>Fukuoka-City</td>\n",
       "      <td>2600</td>\n",
       "      <td>0.7km from city centre</td>\n",
       "      <td>9.5</td>\n",
       "      <td>Superb</td>\n",
       "      <td>9.4</td>\n",
       "      <td>9.7</td>\n",
       "      <td>9.5</td>\n",
       "      <td>9.7</td>\n",
       "      <td>9.2</td>\n",
       "      <td>9.7</td>\n",
       "      <td>9.5</td>\n",
       "      <td>NaN</td>\n",
       "      <td>NaN</td>\n",
       "    </tr>\n",
       "    <tr>\n",
       "      <th>2</th>\n",
       "      <td>&amp;And Hostel Akihabara</td>\n",
       "      <td>Tokyo</td>\n",
       "      <td>3600</td>\n",
       "      <td>7.8km from city centre</td>\n",
       "      <td>8.7</td>\n",
       "      <td>Fabulous</td>\n",
       "      <td>8.0</td>\n",
       "      <td>7.0</td>\n",
       "      <td>9.0</td>\n",
       "      <td>8.0</td>\n",
       "      <td>10.0</td>\n",
       "      <td>10.0</td>\n",
       "      <td>9.0</td>\n",
       "      <td>139.777472</td>\n",
       "      <td>35.697447</td>\n",
       "    </tr>\n",
       "    <tr>\n",
       "      <th>3</th>\n",
       "      <td>&amp;And Hostel Ueno</td>\n",
       "      <td>Tokyo</td>\n",
       "      <td>2600</td>\n",
       "      <td>8.7km from city centre</td>\n",
       "      <td>7.4</td>\n",
       "      <td>Very Good</td>\n",
       "      <td>8.0</td>\n",
       "      <td>7.5</td>\n",
       "      <td>7.5</td>\n",
       "      <td>7.5</td>\n",
       "      <td>7.0</td>\n",
       "      <td>8.0</td>\n",
       "      <td>6.5</td>\n",
       "      <td>139.783667</td>\n",
       "      <td>35.712716</td>\n",
       "    </tr>\n",
       "    <tr>\n",
       "      <th>4</th>\n",
       "      <td>&amp;And Hostel-Asakusa North-</td>\n",
       "      <td>Tokyo</td>\n",
       "      <td>1500</td>\n",
       "      <td>10.5km from city centre</td>\n",
       "      <td>9.4</td>\n",
       "      <td>Superb</td>\n",
       "      <td>9.5</td>\n",
       "      <td>9.5</td>\n",
       "      <td>9.0</td>\n",
       "      <td>9.0</td>\n",
       "      <td>9.5</td>\n",
       "      <td>10.0</td>\n",
       "      <td>9.5</td>\n",
       "      <td>139.798371</td>\n",
       "      <td>35.727898</td>\n",
       "    </tr>\n",
       "  </tbody>\n",
       "</table>\n",
       "</div>"
      ],
      "text/plain": [
       "                    Hostel Name          City  Min. Price for One Night (yen)  \\\n",
       "0  \"Bike & Bed\" CharinCo Hostel         Osaka                            3300   \n",
       "1                  & And Hostel  Fukuoka-City                            2600   \n",
       "2         &And Hostel Akihabara         Tokyo                            3600   \n",
       "3              &And Hostel Ueno         Tokyo                            2600   \n",
       "4    &And Hostel-Asakusa North-         Tokyo                            1500   \n",
       "\n",
       "  Distance from City Center  Summary Score     Rating  Atmosphere  Cleaniness  \\\n",
       "0    2.9km from city centre            9.2     Superb         8.9         9.4   \n",
       "1    0.7km from city centre            9.5     Superb         9.4         9.7   \n",
       "2    7.8km from city centre            8.7   Fabulous         8.0         7.0   \n",
       "3    8.7km from city centre            7.4  Very Good         8.0         7.5   \n",
       "4   10.5km from city centre            9.4     Superb         9.5         9.5   \n",
       "\n",
       "   Facilities  Location  Security  Staff  Value for Money   Longitude  \\\n",
       "0         9.3       8.9       9.0    9.4              9.4  135.513767   \n",
       "1         9.5       9.7       9.2    9.7              9.5         NaN   \n",
       "2         9.0       8.0      10.0   10.0              9.0  139.777472   \n",
       "3         7.5       7.5       7.0    8.0              6.5  139.783667   \n",
       "4         9.0       9.0       9.5   10.0              9.5  139.798371   \n",
       "\n",
       "    Latitude  \n",
       "0  34.682678  \n",
       "1        NaN  \n",
       "2  35.697447  \n",
       "3  35.712716  \n",
       "4  35.727898  "
      ]
     },
     "execution_count": 42,
     "metadata": {},
     "output_type": "execute_result"
    }
   ],
   "source": [
    "df.drop(['Index'],axis=1,inplace=True)\n",
    "df.head()"
   ]
  },
  {
   "cell_type": "code",
   "execution_count": 43,
   "metadata": {},
   "outputs": [
    {
     "data": {
      "text/plain": [
       "(342, 15)"
      ]
     },
     "execution_count": 43,
     "metadata": {},
     "output_type": "execute_result"
    }
   ],
   "source": [
    "df.shape"
   ]
  },
  {
   "cell_type": "code",
   "execution_count": 44,
   "metadata": {},
   "outputs": [
    {
     "data": {
      "text/plain": [
       "Hostel Name                        object\n",
       "City                               object\n",
       "Min. Price for One Night (yen)      int64\n",
       "Distance from City Center          object\n",
       "Summary Score                     float64\n",
       "Rating                             object\n",
       "Atmosphere                        float64\n",
       "Cleaniness                        float64\n",
       "Facilities                        float64\n",
       "Location                          float64\n",
       "Security                          float64\n",
       "Staff                             float64\n",
       "Value for Money                   float64\n",
       "Longitude                         float64\n",
       "Latitude                          float64\n",
       "dtype: object"
      ]
     },
     "execution_count": 44,
     "metadata": {},
     "output_type": "execute_result"
    }
   ],
   "source": [
    "df.dtypes"
   ]
  },
  {
   "cell_type": "code",
   "execution_count": 45,
   "metadata": {},
   "outputs": [
    {
     "data": {
      "text/plain": [
       "Hostel Name                        0\n",
       "City                               0\n",
       "Min. Price for One Night (yen)     0\n",
       "Distance from City Center          0\n",
       "Summary Score                     15\n",
       "Rating                            15\n",
       "Atmosphere                        15\n",
       "Cleaniness                        15\n",
       "Facilities                        15\n",
       "Location                          15\n",
       "Security                          15\n",
       "Staff                             15\n",
       "Value for Money                   15\n",
       "Longitude                         44\n",
       "Latitude                          44\n",
       "dtype: int64"
      ]
     },
     "execution_count": 45,
     "metadata": {},
     "output_type": "execute_result"
    }
   ],
   "source": [
    "df.isnull().sum()"
   ]
  },
  {
   "cell_type": "code",
   "execution_count": 46,
   "metadata": {},
   "outputs": [
    {
     "data": {
      "text/plain": [
       "Hostel Name                       0\n",
       "City                              0\n",
       "Min. Price for One Night (yen)    0\n",
       "Distance from City Center         0\n",
       "Summary Score                     0\n",
       "Rating                            0\n",
       "Atmosphere                        0\n",
       "Cleaniness                        0\n",
       "Facilities                        0\n",
       "Location                          0\n",
       "Security                          0\n",
       "Staff                             0\n",
       "Value for Money                   0\n",
       "Longitude                         0\n",
       "Latitude                          0\n",
       "dtype: int64"
      ]
     },
     "execution_count": 46,
     "metadata": {},
     "output_type": "execute_result"
    }
   ],
   "source": [
    "# Remove null values\n",
    "df.fillna(method='ffill',inplace=True)\n",
    "df.isnull().sum()"
   ]
  },
  {
   "cell_type": "code",
   "execution_count": 47,
   "metadata": {},
   "outputs": [
    {
     "data": {
      "text/plain": [
       "Tokyo           127\n",
       "Osaka           104\n",
       "Kyoto            78\n",
       "Fukuoka-City     19\n",
       "Hiroshima        14\n",
       "Name: City, dtype: int64"
      ]
     },
     "execution_count": 47,
     "metadata": {},
     "output_type": "execute_result"
    }
   ],
   "source": [
    "# Find unique City names\n",
    "df['City'].value_counts()"
   ]
  },
  {
   "cell_type": "code",
   "execution_count": 48,
   "metadata": {},
   "outputs": [
    {
     "data": {
      "text/plain": [
       "Superb       196\n",
       "Fabulous     107\n",
       "Very Good     20\n",
       "Good          11\n",
       "Rating         8\n",
       "Name: Rating, dtype: int64"
      ]
     },
     "execution_count": 48,
     "metadata": {},
     "output_type": "execute_result"
    }
   ],
   "source": [
    "# Find unique Ratings\n",
    "df['Rating'].value_counts()"
   ]
  },
  {
   "cell_type": "code",
   "execution_count": 49,
   "metadata": {},
   "outputs": [
    {
     "name": "stdout",
     "output_type": "stream",
     "text": [
      "<class 'pandas.core.series.Series'>\n"
     ]
    },
    {
     "data": {
      "text/plain": [
       "City\n",
       "Fukuoka-City     19\n",
       "Hiroshima        14\n",
       "Kyoto            78\n",
       "Osaka           104\n",
       "Tokyo           127\n",
       "Name: Hostel Name, dtype: int64"
      ]
     },
     "execution_count": 49,
     "metadata": {},
     "output_type": "execute_result"
    }
   ],
   "source": [
    "#Q1) Find no of hostels per city\n",
    "df1 = df.groupby('City')['Hostel Name'].count()\n",
    "print(type(df1))\n",
    "df1"
   ]
  },
  {
   "cell_type": "code",
   "execution_count": 50,
   "metadata": {},
   "outputs": [
    {
     "name": "stdout",
     "output_type": "stream",
     "text": [
      "<class 'pandas.core.frame.DataFrame'>\n"
     ]
    },
    {
     "data": {
      "text/html": [
       "<div>\n",
       "<style scoped>\n",
       "    .dataframe tbody tr th:only-of-type {\n",
       "        vertical-align: middle;\n",
       "    }\n",
       "\n",
       "    .dataframe tbody tr th {\n",
       "        vertical-align: top;\n",
       "    }\n",
       "\n",
       "    .dataframe thead th {\n",
       "        text-align: right;\n",
       "    }\n",
       "</style>\n",
       "<table border=\"1\" class=\"dataframe\">\n",
       "  <thead>\n",
       "    <tr style=\"text-align: right;\">\n",
       "      <th></th>\n",
       "      <th>City</th>\n",
       "      <th>Hostel Name</th>\n",
       "    </tr>\n",
       "  </thead>\n",
       "  <tbody>\n",
       "    <tr>\n",
       "      <th>0</th>\n",
       "      <td>Fukuoka-City</td>\n",
       "      <td>19</td>\n",
       "    </tr>\n",
       "    <tr>\n",
       "      <th>1</th>\n",
       "      <td>Hiroshima</td>\n",
       "      <td>14</td>\n",
       "    </tr>\n",
       "    <tr>\n",
       "      <th>2</th>\n",
       "      <td>Kyoto</td>\n",
       "      <td>78</td>\n",
       "    </tr>\n",
       "    <tr>\n",
       "      <th>3</th>\n",
       "      <td>Osaka</td>\n",
       "      <td>104</td>\n",
       "    </tr>\n",
       "    <tr>\n",
       "      <th>4</th>\n",
       "      <td>Tokyo</td>\n",
       "      <td>127</td>\n",
       "    </tr>\n",
       "  </tbody>\n",
       "</table>\n",
       "</div>"
      ],
      "text/plain": [
       "           City  Hostel Name\n",
       "0  Fukuoka-City           19\n",
       "1     Hiroshima           14\n",
       "2         Kyoto           78\n",
       "3         Osaka          104\n",
       "4         Tokyo          127"
      ]
     },
     "execution_count": 50,
     "metadata": {},
     "output_type": "execute_result"
    }
   ],
   "source": [
    "df1 = df1.reset_index()\n",
    "print(type(df1))\n",
    "df1"
   ]
  },
  {
   "cell_type": "code",
   "execution_count": 51,
   "metadata": {},
   "outputs": [],
   "source": [
    "#Q2) Plot a bar chart depicting no of Hostels per city"
   ]
  },
  {
   "cell_type": "code",
   "execution_count": 52,
   "metadata": {},
   "outputs": [
    {
     "name": "stdout",
     "output_type": "stream",
     "text": [
      "['Fukuoka-City', 'Hiroshima', 'Kyoto', 'Osaka', 'Tokyo']\n",
      "[19, 14, 78, 104, 127]\n"
     ]
    }
   ],
   "source": [
    "l1 = list(df.groupby('City')['Hostel Name'].count().index)\n",
    "l2 = list(df.groupby('City')['Hostel Name'].count().values)\n",
    "print(l1)\n",
    "print(l2)"
   ]
  },
  {
   "cell_type": "code",
   "execution_count": 53,
   "metadata": {},
   "outputs": [
    {
     "data": {
      "image/png": "[encoded data removed]",
      "text/plain": [
       "<Figure size 432x288 with 1 Axes>"
      ]
     },
     "metadata": {
      "needs_background": "light"
     },
     "output_type": "display_data"
    }
   ],
   "source": [
    "plt.bar(l1,l2,label='No of Hostels per city',color='g')\n",
    "plt.title('Bar chart depicting no of Hostels per city')\n",
    "plt.legend()\n",
    "plt.xlabel('City Names')\n",
    "plt.ylabel('No of Hostels')\n",
    "plt.xticks(rotation=90)\n",
    "# plt.savefig('Hostels_per_city.jpg')\n",
    "plt.show()"
   ]
  },
  {
   "cell_type": "code",
   "execution_count": 54,
   "metadata": {},
   "outputs": [],
   "source": [
    "# Create bar chart for hostel count by city\n",
    "# city_bar = city_group.plot.bar(x=\"City\", y=\"Hostel Count\", rot=90, \n",
    "#                                legend=None, color=\"teal\", zorder=3)\n",
    "# plt.grid(which=\"major\", axis=\"y\", zorder=0)\n",
    "# plt.xticks(rotation=45)\n",
    "# plt.title(\"Hostel Count by City in Japan\")\n",
    "# plt.ylabel(\"No of Hostels\")\n",
    "# plt.savefig(\"hostel_bar.png\")\n",
    "# plt.show()"
   ]
  },
  {
   "cell_type": "code",
   "execution_count": 55,
   "metadata": {},
   "outputs": [
    {
     "data": {
      "image/png": "[encoded data removed]",
      "text/plain": [
       "<Figure size 576x432 with 1 Axes>"
      ]
     },
     "metadata": {},
     "output_type": "display_data"
    }
   ],
   "source": [
    "# Q3) Create pie chart for hostel count by city\n",
    "colors = [\"aqua\", \"lightblue\", \"gold\", \"olive\", \"maroon\"]\n",
    "plt.figure(figsize=(8,6))\n",
    "plt.pie(df1['Hostel Name'], labels=df1[\"City\"], colors=colors, autopct=\"%.2f%%\")\n",
    "plt.title(\"Hostel Count Percentage by City in Japan\")\n",
    "# plt.savefig(\"hostel_pie.png\")\n",
    "plt.show()"
   ]
  },
  {
   "cell_type": "code",
   "execution_count": 56,
   "metadata": {},
   "outputs": [
    {
     "data": {
      "text/html": [
       "<div>\n",
       "<style scoped>\n",
       "    .dataframe tbody tr th:only-of-type {\n",
       "        vertical-align: middle;\n",
       "    }\n",
       "\n",
       "    .dataframe tbody tr th {\n",
       "        vertical-align: top;\n",
       "    }\n",
       "\n",
       "    .dataframe thead th {\n",
       "        text-align: right;\n",
       "    }\n",
       "</style>\n",
       "<table border=\"1\" class=\"dataframe\">\n",
       "  <thead>\n",
       "    <tr style=\"text-align: right;\">\n",
       "      <th></th>\n",
       "      <th>Hostel Name</th>\n",
       "      <th>City</th>\n",
       "      <th>Min. Price for One Night (yen)</th>\n",
       "      <th>Distance from City Center</th>\n",
       "      <th>Summary Score</th>\n",
       "      <th>Rating</th>\n",
       "      <th>Atmosphere</th>\n",
       "      <th>Cleaniness</th>\n",
       "      <th>Facilities</th>\n",
       "      <th>Location</th>\n",
       "      <th>Security</th>\n",
       "      <th>Staff</th>\n",
       "      <th>Value for Money</th>\n",
       "      <th>Longitude</th>\n",
       "      <th>Latitude</th>\n",
       "      <th>Distance magnitue (km)</th>\n",
       "    </tr>\n",
       "  </thead>\n",
       "  <tbody>\n",
       "    <tr>\n",
       "      <th>0</th>\n",
       "      <td>\"Bike &amp; Bed\" CharinCo Hostel</td>\n",
       "      <td>Osaka</td>\n",
       "      <td>3300</td>\n",
       "      <td>2.9km from city centre</td>\n",
       "      <td>9.2</td>\n",
       "      <td>Superb</td>\n",
       "      <td>8.9</td>\n",
       "      <td>9.4</td>\n",
       "      <td>9.3</td>\n",
       "      <td>8.9</td>\n",
       "      <td>9.0</td>\n",
       "      <td>9.4</td>\n",
       "      <td>9.4</td>\n",
       "      <td>135.513767</td>\n",
       "      <td>34.682678</td>\n",
       "      <td>2.9</td>\n",
       "    </tr>\n",
       "    <tr>\n",
       "      <th>1</th>\n",
       "      <td>&amp; And Hostel</td>\n",
       "      <td>Fukuoka-City</td>\n",
       "      <td>2600</td>\n",
       "      <td>0.7km from city centre</td>\n",
       "      <td>9.5</td>\n",
       "      <td>Superb</td>\n",
       "      <td>9.4</td>\n",
       "      <td>9.7</td>\n",
       "      <td>9.5</td>\n",
       "      <td>9.7</td>\n",
       "      <td>9.2</td>\n",
       "      <td>9.7</td>\n",
       "      <td>9.5</td>\n",
       "      <td>135.513767</td>\n",
       "      <td>34.682678</td>\n",
       "      <td>0.7</td>\n",
       "    </tr>\n",
       "    <tr>\n",
       "      <th>2</th>\n",
       "      <td>&amp;And Hostel Akihabara</td>\n",
       "      <td>Tokyo</td>\n",
       "      <td>3600</td>\n",
       "      <td>7.8km from city centre</td>\n",
       "      <td>8.7</td>\n",
       "      <td>Fabulous</td>\n",
       "      <td>8.0</td>\n",
       "      <td>7.0</td>\n",
       "      <td>9.0</td>\n",
       "      <td>8.0</td>\n",
       "      <td>10.0</td>\n",
       "      <td>10.0</td>\n",
       "      <td>9.0</td>\n",
       "      <td>139.777472</td>\n",
       "      <td>35.697447</td>\n",
       "      <td>7.8</td>\n",
       "    </tr>\n",
       "    <tr>\n",
       "      <th>3</th>\n",
       "      <td>&amp;And Hostel Ueno</td>\n",
       "      <td>Tokyo</td>\n",
       "      <td>2600</td>\n",
       "      <td>8.7km from city centre</td>\n",
       "      <td>7.4</td>\n",
       "      <td>Very Good</td>\n",
       "      <td>8.0</td>\n",
       "      <td>7.5</td>\n",
       "      <td>7.5</td>\n",
       "      <td>7.5</td>\n",
       "      <td>7.0</td>\n",
       "      <td>8.0</td>\n",
       "      <td>6.5</td>\n",
       "      <td>139.783667</td>\n",
       "      <td>35.712716</td>\n",
       "      <td>8.7</td>\n",
       "    </tr>\n",
       "    <tr>\n",
       "      <th>4</th>\n",
       "      <td>&amp;And Hostel-Asakusa North-</td>\n",
       "      <td>Tokyo</td>\n",
       "      <td>1500</td>\n",
       "      <td>10.5km from city centre</td>\n",
       "      <td>9.4</td>\n",
       "      <td>Superb</td>\n",
       "      <td>9.5</td>\n",
       "      <td>9.5</td>\n",
       "      <td>9.0</td>\n",
       "      <td>9.0</td>\n",
       "      <td>9.5</td>\n",
       "      <td>10.0</td>\n",
       "      <td>9.5</td>\n",
       "      <td>139.798371</td>\n",
       "      <td>35.727898</td>\n",
       "      <td>10.5</td>\n",
       "    </tr>\n",
       "  </tbody>\n",
       "</table>\n",
       "</div>"
      ],
      "text/plain": [
       "                    Hostel Name          City  Min. Price for One Night (yen)  \\\n",
       "0  \"Bike & Bed\" CharinCo Hostel         Osaka                            3300   \n",
       "1                  & And Hostel  Fukuoka-City                            2600   \n",
       "2         &And Hostel Akihabara         Tokyo                            3600   \n",
       "3              &And Hostel Ueno         Tokyo                            2600   \n",
       "4    &And Hostel-Asakusa North-         Tokyo                            1500   \n",
       "\n",
       "  Distance from City Center  Summary Score     Rating  Atmosphere  Cleaniness  \\\n",
       "0    2.9km from city centre            9.2     Superb         8.9         9.4   \n",
       "1    0.7km from city centre            9.5     Superb         9.4         9.7   \n",
       "2    7.8km from city centre            8.7   Fabulous         8.0         7.0   \n",
       "3    8.7km from city centre            7.4  Very Good         8.0         7.5   \n",
       "4   10.5km from city centre            9.4     Superb         9.5         9.5   \n",
       "\n",
       "   Facilities  Location  Security  Staff  Value for Money   Longitude  \\\n",
       "0         9.3       8.9       9.0    9.4              9.4  135.513767   \n",
       "1         9.5       9.7       9.2    9.7              9.5  135.513767   \n",
       "2         9.0       8.0      10.0   10.0              9.0  139.777472   \n",
       "3         7.5       7.5       7.0    8.0              6.5  139.783667   \n",
       "4         9.0       9.0       9.5   10.0              9.5  139.798371   \n",
       "\n",
       "    Latitude Distance magnitue (km)  \n",
       "0  34.682678                    2.9  \n",
       "1  34.682678                    0.7  \n",
       "2  35.697447                    7.8  \n",
       "3  35.712716                    8.7  \n",
       "4  35.727898                   10.5  "
      ]
     },
     "execution_count": 56,
     "metadata": {},
     "output_type": "execute_result"
    }
   ],
   "source": [
    "#Q4) Obtain numeric value from distance column\n",
    "df[\"Distance magnitue (km)\"] = df[\"Distance from City Center\"].str.split(\"km\").str[0]\n",
    "df.head()"
   ]
  },
  {
   "cell_type": "code",
   "execution_count": 57,
   "metadata": {},
   "outputs": [
    {
     "data": {
      "text/html": [
       "<div>\n",
       "<style scoped>\n",
       "    .dataframe tbody tr th:only-of-type {\n",
       "        vertical-align: middle;\n",
       "    }\n",
       "\n",
       "    .dataframe tbody tr th {\n",
       "        vertical-align: top;\n",
       "    }\n",
       "\n",
       "    .dataframe thead th {\n",
       "        text-align: right;\n",
       "    }\n",
       "</style>\n",
       "<table border=\"1\" class=\"dataframe\">\n",
       "  <thead>\n",
       "    <tr style=\"text-align: right;\">\n",
       "      <th></th>\n",
       "      <th>Hostel Name</th>\n",
       "      <th>City</th>\n",
       "      <th>Min. Price for One Night (yen)</th>\n",
       "      <th>Summary Score</th>\n",
       "      <th>Rating</th>\n",
       "      <th>Atmosphere</th>\n",
       "      <th>Cleaniness</th>\n",
       "      <th>Facilities</th>\n",
       "      <th>Location</th>\n",
       "      <th>Security</th>\n",
       "      <th>Staff</th>\n",
       "      <th>Value for Money</th>\n",
       "      <th>Longitude</th>\n",
       "      <th>Latitude</th>\n",
       "      <th>Distance magnitue (km)</th>\n",
       "    </tr>\n",
       "  </thead>\n",
       "  <tbody>\n",
       "    <tr>\n",
       "      <th>0</th>\n",
       "      <td>\"Bike &amp; Bed\" CharinCo Hostel</td>\n",
       "      <td>Osaka</td>\n",
       "      <td>3300</td>\n",
       "      <td>9.2</td>\n",
       "      <td>Superb</td>\n",
       "      <td>8.9</td>\n",
       "      <td>9.4</td>\n",
       "      <td>9.3</td>\n",
       "      <td>8.9</td>\n",
       "      <td>9.0</td>\n",
       "      <td>9.4</td>\n",
       "      <td>9.4</td>\n",
       "      <td>135.513767</td>\n",
       "      <td>34.682678</td>\n",
       "      <td>2.9</td>\n",
       "    </tr>\n",
       "    <tr>\n",
       "      <th>1</th>\n",
       "      <td>&amp; And Hostel</td>\n",
       "      <td>Fukuoka-City</td>\n",
       "      <td>2600</td>\n",
       "      <td>9.5</td>\n",
       "      <td>Superb</td>\n",
       "      <td>9.4</td>\n",
       "      <td>9.7</td>\n",
       "      <td>9.5</td>\n",
       "      <td>9.7</td>\n",
       "      <td>9.2</td>\n",
       "      <td>9.7</td>\n",
       "      <td>9.5</td>\n",
       "      <td>135.513767</td>\n",
       "      <td>34.682678</td>\n",
       "      <td>0.7</td>\n",
       "    </tr>\n",
       "    <tr>\n",
       "      <th>2</th>\n",
       "      <td>&amp;And Hostel Akihabara</td>\n",
       "      <td>Tokyo</td>\n",
       "      <td>3600</td>\n",
       "      <td>8.7</td>\n",
       "      <td>Fabulous</td>\n",
       "      <td>8.0</td>\n",
       "      <td>7.0</td>\n",
       "      <td>9.0</td>\n",
       "      <td>8.0</td>\n",
       "      <td>10.0</td>\n",
       "      <td>10.0</td>\n",
       "      <td>9.0</td>\n",
       "      <td>139.777472</td>\n",
       "      <td>35.697447</td>\n",
       "      <td>7.8</td>\n",
       "    </tr>\n",
       "    <tr>\n",
       "      <th>3</th>\n",
       "      <td>&amp;And Hostel Ueno</td>\n",
       "      <td>Tokyo</td>\n",
       "      <td>2600</td>\n",
       "      <td>7.4</td>\n",
       "      <td>Very Good</td>\n",
       "      <td>8.0</td>\n",
       "      <td>7.5</td>\n",
       "      <td>7.5</td>\n",
       "      <td>7.5</td>\n",
       "      <td>7.0</td>\n",
       "      <td>8.0</td>\n",
       "      <td>6.5</td>\n",
       "      <td>139.783667</td>\n",
       "      <td>35.712716</td>\n",
       "      <td>8.7</td>\n",
       "    </tr>\n",
       "    <tr>\n",
       "      <th>4</th>\n",
       "      <td>&amp;And Hostel-Asakusa North-</td>\n",
       "      <td>Tokyo</td>\n",
       "      <td>1500</td>\n",
       "      <td>9.4</td>\n",
       "      <td>Superb</td>\n",
       "      <td>9.5</td>\n",
       "      <td>9.5</td>\n",
       "      <td>9.0</td>\n",
       "      <td>9.0</td>\n",
       "      <td>9.5</td>\n",
       "      <td>10.0</td>\n",
       "      <td>9.5</td>\n",
       "      <td>139.798371</td>\n",
       "      <td>35.727898</td>\n",
       "      <td>10.5</td>\n",
       "    </tr>\n",
       "  </tbody>\n",
       "</table>\n",
       "</div>"
      ],
      "text/plain": [
       "                    Hostel Name          City  Min. Price for One Night (yen)  \\\n",
       "0  \"Bike & Bed\" CharinCo Hostel         Osaka                            3300   \n",
       "1                  & And Hostel  Fukuoka-City                            2600   \n",
       "2         &And Hostel Akihabara         Tokyo                            3600   \n",
       "3              &And Hostel Ueno         Tokyo                            2600   \n",
       "4    &And Hostel-Asakusa North-         Tokyo                            1500   \n",
       "\n",
       "   Summary Score     Rating  Atmosphere  Cleaniness  Facilities  Location  \\\n",
       "0            9.2     Superb         8.9         9.4         9.3       8.9   \n",
       "1            9.5     Superb         9.4         9.7         9.5       9.7   \n",
       "2            8.7   Fabulous         8.0         7.0         9.0       8.0   \n",
       "3            7.4  Very Good         8.0         7.5         7.5       7.5   \n",
       "4            9.4     Superb         9.5         9.5         9.0       9.0   \n",
       "\n",
       "   Security  Staff  Value for Money   Longitude   Latitude  \\\n",
       "0       9.0    9.4              9.4  135.513767  34.682678   \n",
       "1       9.2    9.7              9.5  135.513767  34.682678   \n",
       "2      10.0   10.0              9.0  139.777472  35.697447   \n",
       "3       7.0    8.0              6.5  139.783667  35.712716   \n",
       "4       9.5   10.0              9.5  139.798371  35.727898   \n",
       "\n",
       "  Distance magnitue (km)  \n",
       "0                    2.9  \n",
       "1                    0.7  \n",
       "2                    7.8  \n",
       "3                    8.7  \n",
       "4                   10.5  "
      ]
     },
     "execution_count": 57,
     "metadata": {},
     "output_type": "execute_result"
    }
   ],
   "source": [
    "# Drop redundant column\n",
    "df = df.drop([\"Distance from City Center\"], axis=1)\n",
    "df.head()"
   ]
  },
  {
   "cell_type": "code",
   "execution_count": 58,
   "metadata": {},
   "outputs": [
    {
     "name": "stdout",
     "output_type": "stream",
     "text": [
      "Minimum price is\n"
     ]
    },
    {
     "data": {
      "text/plain": [
       "City\n",
       "Fukuoka-City    2300\n",
       "Hiroshima       2000\n",
       "Kyoto           1000\n",
       "Osaka           1200\n",
       "Tokyo           1300\n",
       "Name: Min. Price for One Night (yen), dtype: int64"
      ]
     },
     "execution_count": 58,
     "metadata": {},
     "output_type": "execute_result"
    }
   ],
   "source": [
    "# Q5) Find  min and max for minimum price column per city\n",
    "df_min_price = df.groupby([\"City\"])[\"Min. Price for One Night (yen)\"].min()\n",
    "df_max_price = df.groupby([\"City\"])[\"Min. Price for One Night (yen)\"].max()\n",
    "print(f'Minimum price is')\n",
    "df_min_price"
   ]
  },
  {
   "cell_type": "code",
   "execution_count": 59,
   "metadata": {},
   "outputs": [
    {
     "name": "stdout",
     "output_type": "stream",
     "text": [
      "Maximum price is\n"
     ]
    },
    {
     "data": {
      "text/plain": [
       "City\n",
       "Fukuoka-City       4300\n",
       "Hiroshima          3400\n",
       "Kyoto              4000\n",
       "Osaka           1003200\n",
       "Tokyo           1003200\n",
       "Name: Min. Price for One Night (yen), dtype: int64"
      ]
     },
     "execution_count": 59,
     "metadata": {},
     "output_type": "execute_result"
    }
   ],
   "source": [
    "print(f'Maximum price is')\n",
    "df_max_price"
   ]
  },
  {
   "cell_type": "code",
   "execution_count": 60,
   "metadata": {},
   "outputs": [
    {
     "data": {
      "text/plain": [
       "Min. Price for One Night (yen)\n",
       "1000        1\n",
       "1200        5\n",
       "1300        5\n",
       "1400        3\n",
       "1500       21\n",
       "1600        9\n",
       "1700        2\n",
       "1800       13\n",
       "1900       11\n",
       "2000       39\n",
       "2100        8\n",
       "2200       15\n",
       "2300       18\n",
       "2400       10\n",
       "2500       45\n",
       "2600       14\n",
       "2700       14\n",
       "2800       12\n",
       "2900       13\n",
       "3000       23\n",
       "3100        2\n",
       "3200        6\n",
       "3300       10\n",
       "3400        4\n",
       "3500        6\n",
       "3600        4\n",
       "3700        2\n",
       "3800        6\n",
       "3900        2\n",
       "4000        5\n",
       "4100        2\n",
       "4200        1\n",
       "4300        1\n",
       "5200        1\n",
       "5400        1\n",
       "5500        1\n",
       "6000        1\n",
       "6200        1\n",
       "6300        1\n",
       "6500        1\n",
       "7600        1\n",
       "1003200     2\n",
       "Name: City, dtype: int64"
      ]
     },
     "execution_count": 60,
     "metadata": {},
     "output_type": "execute_result"
    }
   ],
   "source": [
    "# Q6) Find value count for each unique value for minimum price column\n",
    "df.groupby([\"Min. Price for One Night (yen)\"])[\"City\"].count()"
   ]
  },
  {
   "cell_type": "code",
   "execution_count": 61,
   "metadata": {},
   "outputs": [
    {
     "data": {
      "text/plain": [
       "Min. Price for One Night (yen)\n",
       "1000     1\n",
       "1200     5\n",
       "1300     5\n",
       "1400     3\n",
       "1500    21\n",
       "1600     9\n",
       "1700     2\n",
       "1800    13\n",
       "1900    11\n",
       "2000    39\n",
       "2100     8\n",
       "2200    15\n",
       "2300    18\n",
       "2400    10\n",
       "2500    45\n",
       "2600    14\n",
       "2700    14\n",
       "2800    12\n",
       "2900    13\n",
       "3000    23\n",
       "3100     2\n",
       "3200     6\n",
       "3300    10\n",
       "3400     4\n",
       "3500     6\n",
       "3600     4\n",
       "3700     2\n",
       "3800     6\n",
       "3900     2\n",
       "4000     5\n",
       "4100     2\n",
       "4200     1\n",
       "4300     1\n",
       "5200     1\n",
       "5400     1\n",
       "5500     1\n",
       "6000     1\n",
       "6200     1\n",
       "6300     1\n",
       "6500     1\n",
       "7600     1\n",
       "Name: City, dtype: int64"
      ]
     },
     "execution_count": 61,
     "metadata": {},
     "output_type": "execute_result"
    }
   ],
   "source": [
    "# Q7) Remove outlier\n",
    "price_reduced = df[df[\"Min. Price for One Night (yen)\"] < 8000]\n",
    "df5 = price_reduced.groupby([\"Min. Price for One Night (yen)\"]).count()[\"City\"]\n",
    "df5"
   ]
  },
  {
   "cell_type": "code",
   "execution_count": 62,
   "metadata": {},
   "outputs": [
    {
     "data": {
      "text/html": [
       "<div>\n",
       "<style scoped>\n",
       "    .dataframe tbody tr th:only-of-type {\n",
       "        vertical-align: middle;\n",
       "    }\n",
       "\n",
       "    .dataframe tbody tr th {\n",
       "        vertical-align: top;\n",
       "    }\n",
       "\n",
       "    .dataframe thead th {\n",
       "        text-align: right;\n",
       "    }\n",
       "</style>\n",
       "<table border=\"1\" class=\"dataframe\">\n",
       "  <thead>\n",
       "    <tr style=\"text-align: right;\">\n",
       "      <th></th>\n",
       "      <th>Hostel Name</th>\n",
       "      <th>City</th>\n",
       "      <th>Min. Price for One Night (yen)</th>\n",
       "      <th>Summary Score</th>\n",
       "      <th>Rating</th>\n",
       "      <th>Atmosphere</th>\n",
       "      <th>Cleaniness</th>\n",
       "      <th>Facilities</th>\n",
       "      <th>Location</th>\n",
       "      <th>Security</th>\n",
       "      <th>Staff</th>\n",
       "      <th>Value for Money</th>\n",
       "      <th>Longitude</th>\n",
       "      <th>Latitude</th>\n",
       "      <th>Distance magnitue (km)</th>\n",
       "    </tr>\n",
       "  </thead>\n",
       "  <tbody>\n",
       "    <tr>\n",
       "      <th>0</th>\n",
       "      <td>\"Bike &amp; Bed\" CharinCo Hostel</td>\n",
       "      <td>Osaka</td>\n",
       "      <td>3300</td>\n",
       "      <td>9.2</td>\n",
       "      <td>Superb</td>\n",
       "      <td>8.9</td>\n",
       "      <td>9.4</td>\n",
       "      <td>9.3</td>\n",
       "      <td>8.9</td>\n",
       "      <td>9.0</td>\n",
       "      <td>9.4</td>\n",
       "      <td>9.4</td>\n",
       "      <td>135.513767</td>\n",
       "      <td>34.682678</td>\n",
       "      <td>2.9</td>\n",
       "    </tr>\n",
       "    <tr>\n",
       "      <th>1</th>\n",
       "      <td>&amp; And Hostel</td>\n",
       "      <td>Fukuoka-City</td>\n",
       "      <td>2600</td>\n",
       "      <td>9.5</td>\n",
       "      <td>Superb</td>\n",
       "      <td>9.4</td>\n",
       "      <td>9.7</td>\n",
       "      <td>9.5</td>\n",
       "      <td>9.7</td>\n",
       "      <td>9.2</td>\n",
       "      <td>9.7</td>\n",
       "      <td>9.5</td>\n",
       "      <td>135.513767</td>\n",
       "      <td>34.682678</td>\n",
       "      <td>0.7</td>\n",
       "    </tr>\n",
       "    <tr>\n",
       "      <th>2</th>\n",
       "      <td>&amp;And Hostel Akihabara</td>\n",
       "      <td>Tokyo</td>\n",
       "      <td>3600</td>\n",
       "      <td>8.7</td>\n",
       "      <td>Fabulous</td>\n",
       "      <td>8.0</td>\n",
       "      <td>7.0</td>\n",
       "      <td>9.0</td>\n",
       "      <td>8.0</td>\n",
       "      <td>10.0</td>\n",
       "      <td>10.0</td>\n",
       "      <td>9.0</td>\n",
       "      <td>139.777472</td>\n",
       "      <td>35.697447</td>\n",
       "      <td>7.8</td>\n",
       "    </tr>\n",
       "    <tr>\n",
       "      <th>3</th>\n",
       "      <td>&amp;And Hostel Ueno</td>\n",
       "      <td>Tokyo</td>\n",
       "      <td>2600</td>\n",
       "      <td>7.4</td>\n",
       "      <td>Very Good</td>\n",
       "      <td>8.0</td>\n",
       "      <td>7.5</td>\n",
       "      <td>7.5</td>\n",
       "      <td>7.5</td>\n",
       "      <td>7.0</td>\n",
       "      <td>8.0</td>\n",
       "      <td>6.5</td>\n",
       "      <td>139.783667</td>\n",
       "      <td>35.712716</td>\n",
       "      <td>8.7</td>\n",
       "    </tr>\n",
       "    <tr>\n",
       "      <th>4</th>\n",
       "      <td>&amp;And Hostel-Asakusa North-</td>\n",
       "      <td>Tokyo</td>\n",
       "      <td>1500</td>\n",
       "      <td>9.4</td>\n",
       "      <td>Superb</td>\n",
       "      <td>9.5</td>\n",
       "      <td>9.5</td>\n",
       "      <td>9.0</td>\n",
       "      <td>9.0</td>\n",
       "      <td>9.5</td>\n",
       "      <td>10.0</td>\n",
       "      <td>9.5</td>\n",
       "      <td>139.798371</td>\n",
       "      <td>35.727898</td>\n",
       "      <td>10.5</td>\n",
       "    </tr>\n",
       "  </tbody>\n",
       "</table>\n",
       "</div>"
      ],
      "text/plain": [
       "                    Hostel Name          City  Min. Price for One Night (yen)  \\\n",
       "0  \"Bike & Bed\" CharinCo Hostel         Osaka                            3300   \n",
       "1                  & And Hostel  Fukuoka-City                            2600   \n",
       "2         &And Hostel Akihabara         Tokyo                            3600   \n",
       "3              &And Hostel Ueno         Tokyo                            2600   \n",
       "4    &And Hostel-Asakusa North-         Tokyo                            1500   \n",
       "\n",
       "   Summary Score     Rating  Atmosphere  Cleaniness  Facilities  Location  \\\n",
       "0            9.2     Superb         8.9         9.4         9.3       8.9   \n",
       "1            9.5     Superb         9.4         9.7         9.5       9.7   \n",
       "2            8.7   Fabulous         8.0         7.0         9.0       8.0   \n",
       "3            7.4  Very Good         8.0         7.5         7.5       7.5   \n",
       "4            9.4     Superb         9.5         9.5         9.0       9.0   \n",
       "\n",
       "   Security  Staff  Value for Money   Longitude   Latitude  \\\n",
       "0       9.0    9.4              9.4  135.513767  34.682678   \n",
       "1       9.2    9.7              9.5  135.513767  34.682678   \n",
       "2      10.0   10.0              9.0  139.777472  35.697447   \n",
       "3       7.0    8.0              6.5  139.783667  35.712716   \n",
       "4       9.5   10.0              9.5  139.798371  35.727898   \n",
       "\n",
       "  Distance magnitue (km)  \n",
       "0                    2.9  \n",
       "1                    0.7  \n",
       "2                    7.8  \n",
       "3                    8.7  \n",
       "4                   10.5  "
      ]
     },
     "execution_count": 62,
     "metadata": {},
     "output_type": "execute_result"
    }
   ],
   "source": [
    "price_reduced.head()"
   ]
  },
  {
   "cell_type": "code",
   "execution_count": 63,
   "metadata": {},
   "outputs": [
    {
     "data": {
      "text/plain": [
       "Index(['Hostel Name', 'City', 'Min. Price for One Night (yen)',\n",
       "       'Summary Score', 'Rating', 'Atmosphere', 'Cleaniness', 'Facilities',\n",
       "       'Location', 'Security', 'Staff', 'Value for Money', 'Longitude',\n",
       "       'Latitude', 'Distance magnitue (km)'],\n",
       "      dtype='object')"
      ]
     },
     "execution_count": 63,
     "metadata": {},
     "output_type": "execute_result"
    }
   ],
   "source": [
    "price_reduced.columns"
   ]
  },
  {
   "cell_type": "code",
   "execution_count": 64,
   "metadata": {},
   "outputs": [
    {
     "data": {
      "text/plain": [
       "Hostel Name                        object\n",
       "City                               object\n",
       "Min. Price for One Night (yen)      int64\n",
       "Summary Score                     float64\n",
       "Rating                             object\n",
       "Atmosphere                        float64\n",
       "Cleaniness                        float64\n",
       "Facilities                        float64\n",
       "Location                          float64\n",
       "Security                          float64\n",
       "Staff                             float64\n",
       "Value for Money                   float64\n",
       "Longitude                         float64\n",
       "Latitude                          float64\n",
       "Distance magnitue (km)             object\n",
       "dtype: object"
      ]
     },
     "execution_count": 64,
     "metadata": {},
     "output_type": "execute_result"
    }
   ],
   "source": [
    "price_reduced.dtypes"
   ]
  },
  {
   "cell_type": "code",
   "execution_count": 65,
   "metadata": {},
   "outputs": [
    {
     "name": "stderr",
     "output_type": "stream",
     "text": [
      "C:\\Users\\lenovo\\Anaconda3\\lib\\site-packages\\ipykernel_launcher.py:2: SettingWithCopyWarning: \n",
      "A value is trying to be set on a copy of a slice from a DataFrame.\n",
      "Try using .loc[row_indexer,col_indexer] = value instead\n",
      "\n",
      "See the caveats in the documentation: http://pandas.pydata.org/pandas-docs/stable/indexing.html#indexing-view-versus-copy\n",
      "  \n"
     ]
    },
    {
     "data": {
      "text/plain": [
       "Hostel Name                        object\n",
       "City                               object\n",
       "Min. Price for One Night (yen)      int64\n",
       "Summary Score                     float64\n",
       "Rating                             object\n",
       "Atmosphere                        float64\n",
       "Cleaniness                        float64\n",
       "Facilities                        float64\n",
       "Location                          float64\n",
       "Security                          float64\n",
       "Staff                             float64\n",
       "Value for Money                   float64\n",
       "Longitude                         float64\n",
       "Latitude                          float64\n",
       "Distance magnitue (km)            float64\n",
       "dtype: object"
      ]
     },
     "execution_count": 65,
     "metadata": {},
     "output_type": "execute_result"
    }
   ],
   "source": [
    "# Convert 'Distance magnitue (km)' to numeric\n",
    "price_reduced['Distance magnitue (km)'] = price_reduced['Distance magnitue (km)'].apply(pd.to_numeric)\n",
    "price_reduced.dtypes"
   ]
  },
  {
   "cell_type": "code",
   "execution_count": 66,
   "metadata": {},
   "outputs": [
    {
     "data": {
      "image/png": "[encoded data removed]",
      "text/plain": [
       "<Figure size 432x288 with 1 Axes>"
      ]
     },
     "metadata": {
      "needs_background": "light"
     },
     "output_type": "display_data"
    }
   ],
   "source": [
    "# Q8) Depict Distance (km) vs Min Price per night on scatter plot\n",
    "\n",
    "# Method 1 - using df.plot.scatter()\n",
    "price_reduced.plot.scatter(\"Distance magnitue (km)\", \n",
    "                           \"Min. Price for One Night (yen)\",color='red')\n",
    "plt.tight_layout()\n",
    "plt.title(\"Minimum Price for One Night vs. Distance from City Center\")\n",
    "plt.grid()\n",
    "plt.show()"
   ]
  },
  {
   "cell_type": "code",
   "execution_count": 67,
   "metadata": {},
   "outputs": [
    {
     "data": {
      "image/png": "[encoded data removed]",
      "text/plain": [
       "<Figure size 432x288 with 1 Axes>"
      ]
     },
     "metadata": {
      "needs_background": "light"
     },
     "output_type": "display_data"
    }
   ],
   "source": [
    "# Method 2 - using plt.scatter()\n",
    "plt.scatter(price_reduced['Distance magnitue (km)'],\n",
    "            price_reduced['Min. Price for One Night (yen)'],color='blue')\n",
    "plt.tight_layout()\n",
    "# plt.legend()\n",
    "plt.grid()\n",
    "plt.xlabel('Distance magnitue (km)')\n",
    "plt.ylabel('Min. Price for One Night (yen)')\n",
    "plt.show()"
   ]
  },
  {
   "cell_type": "code",
   "execution_count": 68,
   "metadata": {},
   "outputs": [
    {
     "name": "stdout",
     "output_type": "stream",
     "text": [
      "Mean for Minimum price column is City\n",
      "Fukuoka-City    2736.842105\n",
      "Hiroshima       2578.571429\n",
      "Kyoto           2293.589744\n",
      "Osaka           2391.262136\n",
      "Tokyo           2769.841270\n",
      "Name: Min. Price for One Night (yen), dtype: float64\n",
      "Standard Deviation for Minimum price column is City\n",
      "Fukuoka-City     538.733624\n",
      "Hiroshima        428.195806\n",
      "Kyoto            718.103517\n",
      "Osaka            745.457722\n",
      "Tokyo           1043.246459\n",
      "Name: Min. Price for One Night (yen), dtype: float64\n"
     ]
    }
   ],
   "source": [
    "# Q9) Find the mean and standard deviation (STD) for minimum price column city wise\n",
    "\n",
    "price_mean = price_reduced.groupby([\"City\"])[\"Min. Price for One Night (yen)\"].mean()\n",
    "price_std = price_reduced.groupby([\"City\"])[\"Min. Price for One Night (yen)\"].std()\n",
    "print(f'Mean for Minimum price column is {price_mean}')\n",
    "print(f'Standard Deviation for Minimum price column is {price_std}')"
   ]
  },
  {
   "cell_type": "code",
   "execution_count": 69,
   "metadata": {},
   "outputs": [
    {
     "data": {
      "text/html": [
       "<div>\n",
       "<style scoped>\n",
       "    .dataframe tbody tr th:only-of-type {\n",
       "        vertical-align: middle;\n",
       "    }\n",
       "\n",
       "    .dataframe tbody tr th {\n",
       "        vertical-align: top;\n",
       "    }\n",
       "\n",
       "    .dataframe thead th {\n",
       "        text-align: right;\n",
       "    }\n",
       "</style>\n",
       "<table border=\"1\" class=\"dataframe\">\n",
       "  <thead>\n",
       "    <tr style=\"text-align: right;\">\n",
       "      <th></th>\n",
       "      <th>City</th>\n",
       "      <th>Price Mean (yen)</th>\n",
       "    </tr>\n",
       "  </thead>\n",
       "  <tbody>\n",
       "    <tr>\n",
       "      <th>0</th>\n",
       "      <td>Fukuoka-City</td>\n",
       "      <td>2736.842105</td>\n",
       "    </tr>\n",
       "    <tr>\n",
       "      <th>1</th>\n",
       "      <td>Hiroshima</td>\n",
       "      <td>2578.571429</td>\n",
       "    </tr>\n",
       "    <tr>\n",
       "      <th>2</th>\n",
       "      <td>Kyoto</td>\n",
       "      <td>2293.589744</td>\n",
       "    </tr>\n",
       "    <tr>\n",
       "      <th>3</th>\n",
       "      <td>Osaka</td>\n",
       "      <td>2391.262136</td>\n",
       "    </tr>\n",
       "    <tr>\n",
       "      <th>4</th>\n",
       "      <td>Tokyo</td>\n",
       "      <td>2769.841270</td>\n",
       "    </tr>\n",
       "  </tbody>\n",
       "</table>\n",
       "</div>"
      ],
      "text/plain": [
       "           City  Price Mean (yen)\n",
       "0  Fukuoka-City       2736.842105\n",
       "1     Hiroshima       2578.571429\n",
       "2         Kyoto       2293.589744\n",
       "3         Osaka       2391.262136\n",
       "4         Tokyo       2769.841270"
      ]
     },
     "execution_count": 69,
     "metadata": {},
     "output_type": "execute_result"
    }
   ],
   "source": [
    "# Q10) Create new dataframe for mean values\n",
    "mean_df = pd.DataFrame({\"City\":price_mean.index, \"Price Mean (yen)\":price_mean.values})\n",
    "# mean_df = mean_df.set_index(\"City\")\n",
    "mean_df"
   ]
  },
  {
   "cell_type": "code",
   "execution_count": 64,
   "metadata": {},
   "outputs": [],
   "source": [
    "# mean_df = mean_df.set_index(\"City\")\n",
    "# mean_df"
   ]
  },
  {
   "cell_type": "code",
   "execution_count": 70,
   "metadata": {},
   "outputs": [
    {
     "data": {
      "text/plain": [
       "Index(['City', 'Price Mean (yen)'], dtype='object')"
      ]
     },
     "execution_count": 70,
     "metadata": {},
     "output_type": "execute_result"
    }
   ],
   "source": [
    "mean_df.columns"
   ]
  },
  {
   "cell_type": "code",
   "execution_count": 71,
   "metadata": {},
   "outputs": [
    {
     "data": {
      "image/png": "[encoded data removed]",
      "text/plain": [
       "<Figure size 432x288 with 1 Axes>"
      ]
     },
     "metadata": {
      "needs_background": "light"
     },
     "output_type": "display_data"
    }
   ],
   "source": [
    "# Q11) Depict mean price vs city on a bar chart\n",
    "plt.bar(mean_df['City'],mean_df['Price Mean (yen)'],color='yellow')\n",
    "plt.title('Mean price(yen) per city')\n",
    "plt.xlabel('City Names')\n",
    "plt.ylabel('Price mean (yen)')\n",
    "plt.grid()\n",
    "plt.xticks(rotation=60)\n",
    "plt.show()"
   ]
  },
  {
   "cell_type": "code",
   "execution_count": null,
   "metadata": {},
   "outputs": [],
   "source": []
  },
  {
   "cell_type": "code",
   "execution_count": null,
   "metadata": {},
   "outputs": [],
   "source": []
  },
  {
   "cell_type": "code",
   "execution_count": null,
   "metadata": {},
   "outputs": [],
   "source": []
  },
  {
   "cell_type": "code",
   "execution_count": null,
   "metadata": {},
   "outputs": [],
   "source": []
  },
  {
   "cell_type": "code",
   "execution_count": null,
   "metadata": {},
   "outputs": [],
   "source": []
  },
  {
   "cell_type": "code",
   "execution_count": null,
   "metadata": {},
   "outputs": [],
   "source": []
  },
  {
   "cell_type": "code",
   "execution_count": null,
   "metadata": {},
   "outputs": [],
   "source": []
  },
  {
   "cell_type": "code",
   "execution_count": 44,
   "metadata": {},
   "outputs": [
    {
     "name": "stdout",
     "output_type": "stream",
     "text": [
      "[1000, 1200, 1300, 1400, 1500, 1600, 1700, 1800, 1900, 2000, 2100, 2200, 2300, 2400, 2500, 2600, 2700, 2800, 2900, 3000, 3100, 3200, 3300, 3400, 3500, 3600, 3700, 3800, 3900, 4000, 4100, 4200, 4300, 5200, 5400, 5500, 6000, 6200, 6300, 6500, 7600]\n",
      "[1, 5, 5, 3, 21, 9, 2, 13, 11, 39, 8, 15, 18, 10, 45, 14, 14, 12, 13, 23, 2, 6, 10, 4, 6, 4, 2, 6, 2, 5, 2, 1, 1, 1, 1, 1, 1, 1, 1, 1, 1]\n"
     ]
    },
    {
     "data": {
      "image/png": "[encoded data removed]",
      "text/plain": [
       "<Figure size 432x288 with 1 Axes>"
      ]
     },
     "metadata": {
      "needs_background": "light"
     },
     "output_type": "display_data"
    }
   ],
   "source": [
    "# Depict Price vs Distance on a scatter plot\n",
    "# Method 1\n",
    "l3 = list(df5.index)\n",
    "l4 = list(df5.values)\n",
    "print(l3)\n",
    "print(l4)\n",
    "\n",
    "# plt.scatter(l3,l4,label =\"Price vs Distance\")\n",
    "# plt.legend()\n",
    "# plt.xlabel('Price')\n",
    "# plt.show()\n",
    "\n",
    "plt.scatter(price_reduced['Distance magnitue (km)'],\n",
    "            price_reduced['Min. Price for One Night (yen)'],\n",
    "            label='Distnce sv Price',color='red')\n",
    "plt.tight_layout()\n",
    "plt.legend()\n",
    "plt.title(\"Minimum Price for One Night vs. Distance from City Center\")\n",
    "plt.grid()\n",
    "# plt.savefig(\"../reports/figures/distance_scatter.png\")\n",
    "plt.show()\n",
    "\n",
    "# price_reduced.plot.scatter(\"Distance from City Center (km)\", \"Min. Price for One Night (yen)\", alpha=0.6)\n",
    "# plt.tight_layout()\n",
    "# plt.title(\"Minimum Price for One Night vs. Distance from City Center\")\n",
    "# plt.grid()\n",
    "# plt.savefig(\"../reports/figures/distance_scatter.png\")\n",
    "# plt.show()"
   ]
  },
  {
   "cell_type": "code",
   "execution_count": null,
   "metadata": {},
   "outputs": [],
   "source": []
  },
  {
   "cell_type": "code",
   "execution_count": null,
   "metadata": {},
   "outputs": [],
   "source": []
  },
  {
   "cell_type": "code",
   "execution_count": null,
   "metadata": {},
   "outputs": [],
   "source": []
  },
  {
   "cell_type": "code",
   "execution_count": null,
   "metadata": {},
   "outputs": [],
   "source": []
  },
  {
   "cell_type": "code",
   "execution_count": null,
   "metadata": {},
   "outputs": [],
   "source": []
  },
  {
   "cell_type": "code",
   "execution_count": 72,
   "metadata": {},
   "outputs": [
    {
     "name": "stdout",
     "output_type": "stream",
     "text": [
      "<class 'pandas.core.series.Series'>\n"
     ]
    },
    {
     "data": {
      "text/plain": [
       "City          Rating   \n",
       "Fukuoka-City  Fabulous      8\n",
       "              Superb       11\n",
       "Hiroshima     Fabulous      3\n",
       "              Superb       11\n",
       "Kyoto         Fabulous     22\n",
       "              Good          2\n",
       "              Rating        2\n",
       "              Superb       50\n",
       "              Very Good     2\n",
       "Osaka         Fabulous     35\n",
       "              Good          7\n",
       "              Rating        3\n",
       "              Superb       53\n",
       "              Very Good     6\n",
       "Tokyo         Fabulous     39\n",
       "              Good          2\n",
       "              Rating        3\n",
       "              Superb       71\n",
       "              Very Good    12\n",
       "Name: Rating, dtype: int64"
      ]
     },
     "execution_count": 72,
     "metadata": {},
     "output_type": "execute_result"
    }
   ],
   "source": [
    "#Q6) Find type of Rating per city\n",
    "df3 = df.groupby(['City','Rating'])['Rating'].count()\n",
    "print(type(df3))\n",
    "df3"
   ]
  },
  {
   "cell_type": "code",
   "execution_count": 77,
   "metadata": {},
   "outputs": [
    {
     "data": {
      "text/html": [
       "<div>\n",
       "<style scoped>\n",
       "    .dataframe tbody tr th:only-of-type {\n",
       "        vertical-align: middle;\n",
       "    }\n",
       "\n",
       "    .dataframe tbody tr th {\n",
       "        vertical-align: top;\n",
       "    }\n",
       "\n",
       "    .dataframe thead th {\n",
       "        text-align: right;\n",
       "    }\n",
       "</style>\n",
       "<table border=\"1\" class=\"dataframe\">\n",
       "  <thead>\n",
       "    <tr style=\"text-align: right;\">\n",
       "      <th>Rating</th>\n",
       "      <th>Fabulous</th>\n",
       "      <th>Good</th>\n",
       "      <th>Rating</th>\n",
       "      <th>Superb</th>\n",
       "      <th>Very Good</th>\n",
       "    </tr>\n",
       "    <tr>\n",
       "      <th>City</th>\n",
       "      <th></th>\n",
       "      <th></th>\n",
       "      <th></th>\n",
       "      <th></th>\n",
       "      <th></th>\n",
       "    </tr>\n",
       "  </thead>\n",
       "  <tbody>\n",
       "    <tr>\n",
       "      <th>Fukuoka-City</th>\n",
       "      <td>8.0</td>\n",
       "      <td>NaN</td>\n",
       "      <td>NaN</td>\n",
       "      <td>11.0</td>\n",
       "      <td>NaN</td>\n",
       "    </tr>\n",
       "    <tr>\n",
       "      <th>Hiroshima</th>\n",
       "      <td>3.0</td>\n",
       "      <td>NaN</td>\n",
       "      <td>NaN</td>\n",
       "      <td>11.0</td>\n",
       "      <td>NaN</td>\n",
       "    </tr>\n",
       "    <tr>\n",
       "      <th>Kyoto</th>\n",
       "      <td>22.0</td>\n",
       "      <td>2.0</td>\n",
       "      <td>2.0</td>\n",
       "      <td>50.0</td>\n",
       "      <td>2.0</td>\n",
       "    </tr>\n",
       "    <tr>\n",
       "      <th>Osaka</th>\n",
       "      <td>35.0</td>\n",
       "      <td>7.0</td>\n",
       "      <td>3.0</td>\n",
       "      <td>53.0</td>\n",
       "      <td>6.0</td>\n",
       "    </tr>\n",
       "    <tr>\n",
       "      <th>Tokyo</th>\n",
       "      <td>39.0</td>\n",
       "      <td>2.0</td>\n",
       "      <td>3.0</td>\n",
       "      <td>71.0</td>\n",
       "      <td>12.0</td>\n",
       "    </tr>\n",
       "  </tbody>\n",
       "</table>\n",
       "</div>"
      ],
      "text/plain": [
       "Rating        Fabulous  Good  Rating  Superb  Very Good\n",
       "City                                                   \n",
       "Fukuoka-City       8.0   NaN     NaN    11.0        NaN\n",
       "Hiroshima          3.0   NaN     NaN    11.0        NaN\n",
       "Kyoto             22.0   2.0     2.0    50.0        2.0\n",
       "Osaka             35.0   7.0     3.0    53.0        6.0\n",
       "Tokyo             39.0   2.0     3.0    71.0       12.0"
      ]
     },
     "execution_count": 77,
     "metadata": {},
     "output_type": "execute_result"
    }
   ],
   "source": [
    "df4 = df3.unstack()\n",
    "df4"
   ]
  },
  {
   "cell_type": "code",
   "execution_count": 76,
   "metadata": {},
   "outputs": [
    {
     "data": {
      "text/plain": [
       "<matplotlib.legend.Legend at 0x21a9786d9b0>"
      ]
     },
     "execution_count": 76,
     "metadata": {},
     "output_type": "execute_result"
    },
    {
     "data": {
      "image/png": "[encoded data removed]",
      "text/plain": [
       "<Figure size 360x288 with 1 Axes>"
      ]
     },
     "metadata": {
      "needs_background": "light"
     },
     "output_type": "display_data"
    }
   ],
   "source": [
    "# Method 1\n",
    "df3.unstack().plot(kind='bar', stacked=True, figsize=[5,4],colormap=\"cool\")\n",
    "plt.xlabel(\"City\")\n",
    "plt.ylabel(\"Rating\")\n",
    "plt.title(\"Rating per City\")\n",
    "plt.legend(title='Rating per City',loc='upper center', \n",
    "           bbox_to_anchor=(1.25, 1), shadow=True, ncol=1, \n",
    "           labels=['Fabulous','Superb', 'Good','Rating','Very Good'])"
   ]
  },
  {
   "cell_type": "code",
   "execution_count": 86,
   "metadata": {},
   "outputs": [
    {
     "name": "stdout",
     "output_type": "stream",
     "text": [
      "Index(['Fukuoka-City', 'Hiroshima', 'Kyoto', 'Osaka', 'Tokyo'], dtype='object', name='City')\n",
      "[[ 8. nan nan 11. nan]\n",
      " [ 3. nan nan 11. nan]\n",
      " [22.  2.  2. 50.  2.]\n",
      " [35.  7.  3. 53.  6.]\n",
      " [39.  2.  3. 71. 12.]]\n",
      "Rating\n",
      "Fabulous      8.0\n",
      "Good          NaN\n",
      "Rating        NaN\n",
      "Superb       11.0\n",
      "Very Good     NaN\n",
      "Name: Fukuoka-City, dtype: float64\n"
     ]
    }
   ],
   "source": [
    "# Method 2\n",
    "print(df4.index)\n",
    "print(df4.values)\n",
    "print(df4.iloc[0])\n",
    "# plt.plot(df4.index, df4.values)"
   ]
  },
  {
   "cell_type": "code",
   "execution_count": null,
   "metadata": {},
   "outputs": [],
   "source": [
    "df3.unstack().plot(kind='bar', stacked=True, figsize=[5,4],colormap=\"cool\")\n",
    "plt.xlabel(\"City\")\n",
    "plt.ylabel(\"Rating\")\n",
    "plt.title(\"Rating per City\")\n",
    "plt.legend(title='Rating per City',loc='upper center', \n",
    "           bbox_to_anchor=(1.25, 1), shadow=True, ncol=1, \n",
    "           labels=['Fabulous','Superb', 'Good','Rating','Very Good'])"
   ]
  },
  {
   "cell_type": "code",
   "execution_count": 114,
   "metadata": {},
   "outputs": [
    {
     "name": "stdout",
     "output_type": "stream",
     "text": [
      "[('Fukuoka-City', 'Fabulous'), ('Fukuoka-City', 'Superb'), ('Hiroshima', 'Fabulous'), ('Hiroshima', 'Superb'), ('Kyoto', 'Fabulous'), ('Kyoto', 'Good'), ('Kyoto', 'Rating'), ('Kyoto', 'Superb'), ('Kyoto', 'Very Good'), ('Osaka', 'Fabulous'), ('Osaka', 'Good'), ('Osaka', 'Rating'), ('Osaka', 'Superb'), ('Osaka', 'Very Good'), ('Tokyo', 'Fabulous'), ('Tokyo', 'Good'), ('Tokyo', 'Rating'), ('Tokyo', 'Superb'), ('Tokyo', 'Very Good')]\n",
      "[8, 11, 3, 11, 22, 2, 2, 50, 2, 35, 7, 3, 53, 6, 39, 2, 3, 71, 12]\n"
     ]
    }
   ],
   "source": [
    "l1 = list(df.groupby(['City','Rating'])['Rating'].count().index)\n",
    "l2 = list(df.groupby(['City','Rating'])['Rating'].count().values)\n",
    "print(l1)\n",
    "print(l2)"
   ]
  },
  {
   "cell_type": "code",
   "execution_count": null,
   "metadata": {},
   "outputs": [],
   "source": []
  },
  {
   "cell_type": "code",
   "execution_count": null,
   "metadata": {},
   "outputs": [],
   "source": []
  },
  {
   "cell_type": "code",
   "execution_count": 118,
   "metadata": {},
   "outputs": [
    {
     "name": "stdout",
     "output_type": "stream",
     "text": [
      "<class 'pandas.core.frame.DataFrame'>\n"
     ]
    },
    {
     "data": {
      "text/html": [
       "<div>\n",
       "<style scoped>\n",
       "    .dataframe tbody tr th:only-of-type {\n",
       "        vertical-align: middle;\n",
       "    }\n",
       "\n",
       "    .dataframe tbody tr th {\n",
       "        vertical-align: top;\n",
       "    }\n",
       "\n",
       "    .dataframe thead th {\n",
       "        text-align: right;\n",
       "    }\n",
       "</style>\n",
       "<table border=\"1\" class=\"dataframe\">\n",
       "  <thead>\n",
       "    <tr style=\"text-align: right;\">\n",
       "      <th></th>\n",
       "      <th>Hostel Name</th>\n",
       "      <th>Min. Price for One Night (yen)</th>\n",
       "      <th>Distance from City Center</th>\n",
       "      <th>Summary Score</th>\n",
       "      <th>Rating</th>\n",
       "      <th>Atmosphere</th>\n",
       "      <th>Cleaniness</th>\n",
       "      <th>Facilities</th>\n",
       "      <th>Location</th>\n",
       "      <th>Security</th>\n",
       "      <th>Staff</th>\n",
       "      <th>Value for Money</th>\n",
       "      <th>Longitude</th>\n",
       "      <th>Latitude</th>\n",
       "    </tr>\n",
       "    <tr>\n",
       "      <th>City</th>\n",
       "      <th></th>\n",
       "      <th></th>\n",
       "      <th></th>\n",
       "      <th></th>\n",
       "      <th></th>\n",
       "      <th></th>\n",
       "      <th></th>\n",
       "      <th></th>\n",
       "      <th></th>\n",
       "      <th></th>\n",
       "      <th></th>\n",
       "      <th></th>\n",
       "      <th></th>\n",
       "      <th></th>\n",
       "    </tr>\n",
       "  </thead>\n",
       "  <tbody>\n",
       "    <tr>\n",
       "      <th>Fukuoka-City</th>\n",
       "      <td>19</td>\n",
       "      <td>19</td>\n",
       "      <td>19</td>\n",
       "      <td>19</td>\n",
       "      <td>19</td>\n",
       "      <td>19</td>\n",
       "      <td>19</td>\n",
       "      <td>19</td>\n",
       "      <td>19</td>\n",
       "      <td>19</td>\n",
       "      <td>19</td>\n",
       "      <td>19</td>\n",
       "      <td>19</td>\n",
       "      <td>19</td>\n",
       "    </tr>\n",
       "    <tr>\n",
       "      <th>Hiroshima</th>\n",
       "      <td>14</td>\n",
       "      <td>14</td>\n",
       "      <td>14</td>\n",
       "      <td>14</td>\n",
       "      <td>14</td>\n",
       "      <td>14</td>\n",
       "      <td>14</td>\n",
       "      <td>14</td>\n",
       "      <td>14</td>\n",
       "      <td>14</td>\n",
       "      <td>14</td>\n",
       "      <td>14</td>\n",
       "      <td>14</td>\n",
       "      <td>14</td>\n",
       "    </tr>\n",
       "    <tr>\n",
       "      <th>Kyoto</th>\n",
       "      <td>78</td>\n",
       "      <td>78</td>\n",
       "      <td>78</td>\n",
       "      <td>78</td>\n",
       "      <td>78</td>\n",
       "      <td>78</td>\n",
       "      <td>78</td>\n",
       "      <td>78</td>\n",
       "      <td>78</td>\n",
       "      <td>78</td>\n",
       "      <td>78</td>\n",
       "      <td>78</td>\n",
       "      <td>78</td>\n",
       "      <td>78</td>\n",
       "    </tr>\n",
       "    <tr>\n",
       "      <th>Osaka</th>\n",
       "      <td>104</td>\n",
       "      <td>104</td>\n",
       "      <td>104</td>\n",
       "      <td>104</td>\n",
       "      <td>104</td>\n",
       "      <td>104</td>\n",
       "      <td>104</td>\n",
       "      <td>104</td>\n",
       "      <td>104</td>\n",
       "      <td>104</td>\n",
       "      <td>104</td>\n",
       "      <td>104</td>\n",
       "      <td>104</td>\n",
       "      <td>104</td>\n",
       "    </tr>\n",
       "    <tr>\n",
       "      <th>Tokyo</th>\n",
       "      <td>127</td>\n",
       "      <td>127</td>\n",
       "      <td>127</td>\n",
       "      <td>127</td>\n",
       "      <td>127</td>\n",
       "      <td>127</td>\n",
       "      <td>127</td>\n",
       "      <td>127</td>\n",
       "      <td>127</td>\n",
       "      <td>127</td>\n",
       "      <td>127</td>\n",
       "      <td>127</td>\n",
       "      <td>127</td>\n",
       "      <td>127</td>\n",
       "    </tr>\n",
       "  </tbody>\n",
       "</table>\n",
       "</div>"
      ],
      "text/plain": [
       "              Hostel Name  Min. Price for One Night (yen)  \\\n",
       "City                                                        \n",
       "Fukuoka-City           19                              19   \n",
       "Hiroshima              14                              14   \n",
       "Kyoto                  78                              78   \n",
       "Osaka                 104                             104   \n",
       "Tokyo                 127                             127   \n",
       "\n",
       "              Distance from City Center  Summary Score  Rating  Atmosphere  \\\n",
       "City                                                                         \n",
       "Fukuoka-City                         19             19      19          19   \n",
       "Hiroshima                            14             14      14          14   \n",
       "Kyoto                                78             78      78          78   \n",
       "Osaka                               104            104     104         104   \n",
       "Tokyo                               127            127     127         127   \n",
       "\n",
       "              Cleaniness  Facilities  Location  Security  Staff  \\\n",
       "City                                                              \n",
       "Fukuoka-City          19          19        19        19     19   \n",
       "Hiroshima             14          14        14        14     14   \n",
       "Kyoto                 78          78        78        78     78   \n",
       "Osaka                104         104       104       104    104   \n",
       "Tokyo                127         127       127       127    127   \n",
       "\n",
       "              Value for Money  Longitude  Latitude  \n",
       "City                                                \n",
       "Fukuoka-City               19         19        19  \n",
       "Hiroshima                  14         14        14  \n",
       "Kyoto                      78         78        78  \n",
       "Osaka                     104        104       104  \n",
       "Tokyo                     127        127       127  "
      ]
     },
     "execution_count": 118,
     "metadata": {},
     "output_type": "execute_result"
    }
   ],
   "source": [
    "#Q2) Get hostel count for each city\n",
    "city_group = df.groupby(\"City\").count()\n",
    "print(type(city_group))\n",
    "city_group"
   ]
  },
  {
   "cell_type": "code",
   "execution_count": null,
   "metadata": {},
   "outputs": [],
   "source": []
  }
 ],
 "metadata": {
  "kernelspec": {
   "display_name": "Python 3",
   "language": "python",
   "name": "python3"
  },
  "language_info": {
   "codemirror_mode": {
    "name": "ipython",
    "version": 3
   },
   "file_extension": ".py",
   "mimetype": "text/x-python",
   "name": "python",
   "nbconvert_exporter": "python",
   "pygments_lexer": "ipython3",
   "version": "3.7.3"
  }
 },
 "nbformat": 4,
 "nbformat_minor": 2
}
