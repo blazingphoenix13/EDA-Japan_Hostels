{
 "cells": [
  {
   "cell_type": "markdown",
   "metadata": {},
   "source": [
    "### EDA_Japan_Hostels_Ex1"
   ]
  },
  {
   "cell_type": "markdown",
   "metadata": {},
   "source": [
    "<b>File used: Hostel.csv</b>"
   ]
  },
  {
   "cell_type": "markdown",
   "metadata": {},
   "source": [
    "<ol>\n",
    "<li>Read the file Hostel.csv</li>\n",
    "<li>Change the given column names to <br>\n",
    "              \"Index\",\"Hostel Name\", \"City\", \"Min. Price for One Night (yen)\", \n",
    "              \"Distance from City Center\", \"Summary Score\", \"Rating\", \"Atmosphere\", \n",
    "              \"Cleaniness\", \"Facilities\", \"Location\", \"Security\", \"Staff\", \n",
    "              \"Value for Money\", \"Longitude\", \"Latitude\"\n",
    "</li>\n",
    "<li>Remove index column</li>\n",
    "<li>Remove null values</li>\n",
    "<li>Find unique City Names</li>\n",
    "<li>Find unique Ratings </li>\n",
    "<li>Find no of Hostels per city</li>\n",
    "<li>Plot a bar chart depicting no of Hostels per city</li>\n",
    "<li>Depict hostel count by city in a pie chart</li>\n",
    "<li>Extract numeric value from \"Distance\" column</li>\n",
    "<li>Find  min and max for \"Minimum price\" column per city</li>\n",
    "<li>Find value count for each unique value for \"Minimum price\" column</li>\n",
    "<li>Remove outlier for \"Minimum price\" column</li>\n",
    "<li>Depict Distance (km) vs Min Price per night on scatter plot</li>\n",
    "<li>Find the mean and standard deviation (STD) for \"Minimum price\" column city wise</li>\n",
    "<li>Create new dataframe for mean values</li>\n",
    "<li>Depict mean price vs city on a bar chart</li>\n",
    "<li>Find type of Rating per city</li>\n",
    "<li></li>\n",
    "<li></li>\n",
    "\n",
    "</ol>"
   ]
  },
  {
   "cell_type": "code",
   "execution_count": null,
   "metadata": {},
   "outputs": [],
   "source": []
  }
 ],
 "metadata": {
  "kernelspec": {
   "display_name": "Python 3",
   "language": "python",
   "name": "python3"
  },
  "language_info": {
   "codemirror_mode": {
    "name": "ipython",
    "version": 3
   },
   "file_extension": ".py",
   "mimetype": "text/x-python",
   "name": "python",
   "nbconvert_exporter": "python",
   "pygments_lexer": "ipython3",
   "version": "3.7.3"
  }
 },
 "nbformat": 4,
 "nbformat_minor": 2
}
